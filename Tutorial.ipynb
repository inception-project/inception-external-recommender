{
 "cells": [
  {
   "cell_type": "markdown",
   "metadata": {},
   "source": [
    "# INCEpTION External Recommender Tutorial 🤖💬\n",
    "\n",
    "Welcome to the INCEpTION external recommender tutorial! 👋 It will show you how to set up external recommenders which can then be used in INCEpTION.\n",
    "\n",
    "\n",
    "<p align=\"center\">\n",
    "  <img src=\"img/spacy_ner_recommendations.png\">\n",
    "</p>\n",
    "\n",
    "\n",
    "⚠️ Please keep in mind, that this notebook is only for showing you how to use the external recommenders and *should not be used in production*. ⚠️"
   ]
  },
  {
   "cell_type": "markdown",
   "metadata": {},
   "source": [
    "### Prerequisites 🏗\n",
    "\n",
    "Be sure to perform the following commands in the folder containing the code of the [inception-external-recommender GitHub repository](https://github.com/inception-project/inception-external-recommender) 🔗 before running this notebook. This will create a new pipenv with the required packages, create a kernel called *inception-external-recommender* based on this pipenv and download the english spacy-models.\n",
    "\n",
    "```\n",
    "pipenv install -e .[contrib]\n",
    "pipenv install ipykernel\n",
    "pipenv shell\n",
    "python -m spacy download en \n",
    "python -m ipykernel install --user --name=inception-external-recommender\n",
    "exit\n",
    "jupyter notebook\n",
    "```\n",
    "\n",
    "Afterwards you can reopen this notebook and choose the kernel *inception-external-recommender* (Kernel -> Change Kernel -> inception-external-recommender), to be able to use the installed packages."
   ]
  },
  {
   "cell_type": "markdown",
   "metadata": {},
   "source": [
    "### Import Ariadne Server 🗄️\n",
    "\n",
    "First start with importing the server-class of [ariadne](https://inception.fandom.com/wiki/Ariadne) 🔗, a library to run and implement external recommenders for INCEpTION using Python."
   ]
  },
  {
   "cell_type": "code",
   "execution_count": null,
   "metadata": {},
   "outputs": [],
   "source": [
    "from ariadne.server import Server"
   ]
  },
  {
   "cell_type": "markdown",
   "metadata": {},
   "source": [
    "### Import Contrib Recommenders 🗄️\n",
    "\n",
    "💡 We provide multiple ready to use recommenders. A full overview of them can be found on [GitHub](https://github.com/inception-project/inception-external-recommender#contrib-models) 🔗. \n",
    "\n",
    "In this tutorial we will provide an example on how to start a server with two recommenders, one for named entities and one for parts-of-speech. They both use spaCy and are not trainable. To be able to use them we need to import both of them from ariadne's contrib-module:"
   ]
  },
  {
   "cell_type": "code",
   "execution_count": null,
   "metadata": {},
   "outputs": [],
   "source": [
    "from ariadne.contrib.spacy import SpacyNerClassifier, SpacyPosClassifier"
   ]
  },
  {
   "cell_type": "markdown",
   "metadata": {},
   "source": [
    "### Create a Server and Add the Classifiers to it  🤖\n",
    "\n",
    "Now we can create a server and add our classifiers. Therefore we need to provide a name and an initialized Classifier-object for each recommender we want to add."
   ]
  },
  {
   "cell_type": "code",
   "execution_count": null,
   "metadata": {},
   "outputs": [],
   "source": [
    "server = Server()\n",
    "server.add_classifier(\"spacy_ner\", SpacyNerClassifier(\"en\"))\n",
    "server.add_classifier(\"spacy_pos\", SpacyPosClassifier(\"en\"))"
   ]
  },
  {
   "cell_type": "markdown",
   "metadata": {},
   "source": [
    "### Start the server ⏯\n",
    "\n",
    "If all classifer which we want to use are added, we can start the server.\n",
    "\n",
    "**⚠️ Attention**: If you changed the code in this jupyter notebook and want to **restart the server 🔁**, it is neccessary to restart the whole kernel (Kernel -> Restart Kernel). ⚠️"
   ]
  },
  {
   "cell_type": "code",
   "execution_count": null,
   "metadata": {},
   "outputs": [],
   "source": [
    "server.start()"
   ]
  },
  {
   "cell_type": "markdown",
   "metadata": {},
   "source": [
    "### Add the recommenders to your INCEpTION-project 🤖💬\n",
    "\n",
    "The external recommenders are now reachable under http://localhost:5000/spacy_ner and http://localhost:5000/spacy_pos respectively.\n",
    "\n",
    "To add them to your INCEpTION-project open its settings page and choose the tab Recommenders. Click on *Create* to create a new recommender. Then choose its properties according to the picture below to add the named-entity-recognition recommender. Its name is generated automatically.\n",
    " \n",
    "<p align=\"center\">\n",
    "  <img src=\"img/spacy_ner_settings.png\">\n",
    "</p>\n",
    "\n",
    "Click *Save* and open a text for annotation. After performing an action, e.g. making an\n",
    "annotation, the recommendations are shown above the tokens. \n",
    "\n",
    "<p align=\"center\">\n",
    "  <img src=\"img/spacy_ner_recommendations.png\">\n",
    "</p>\n",
    "\n",
    "Adding the named-entity recommender\n",
    "works similarly. A detailed description for using a recommender can be found in the \n",
    "[INCEpTION user guide](https://zoidberg.ukp.informatik.tu-darmstadt.de/jenkins/job/INCEpTION%20%28GitHub%29%20%28master%29/de.tudarmstadt.ukp.inception.app$inception-app-webapp/doclinks/1/#sect_annotation_recommendation) 🔗. "
   ]
  }
 ],
 "metadata": {
  "kernelspec": {
   "display_name": "inception-external-recommender",
   "language": "python",
   "name": "inception-external-recommender"
  },
  "language_info": {
   "codemirror_mode": {
    "name": "ipython",
    "version": 3
   },
   "file_extension": ".py",
   "mimetype": "text/x-python",
   "name": "python",
   "nbconvert_exporter": "python",
   "pygments_lexer": "ipython3",
   "version": "3.7.9"
  }
 },
 "nbformat": 4,
 "nbformat_minor": 4
}
